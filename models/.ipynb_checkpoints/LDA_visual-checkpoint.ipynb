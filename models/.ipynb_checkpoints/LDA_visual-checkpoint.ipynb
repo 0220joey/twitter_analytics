{
 "cells": [
  {
   "cell_type": "markdown",
   "metadata": {},
   "source": [
    "# Twitter Topics in the Middle East"
   ]
  },
  {
   "cell_type": "markdown",
   "metadata": {},
   "source": [
    "## Latent Dirichlet Analysis on 10 million tweets and 6 topics"
   ]
  },
  {
   "cell_type": "markdown",
   "metadata": {},
   "source": [
    "### Interpreting the Data\n",
    "#### The location of the topics represent how similar or different they are to each other while the area of the circles represent the prevalence of the topic in the corpus. The Right windows show the 30 most salient terms in the corpus or in each topic (click on the topic to display). The Ratio of red to blue shows the number of times a particular term appears in the selected topic versus in the corpus. The Lambda value is used to denote the relevance of terms in each topic, that is to say a lower lambda value represents more unique terms to a topic and can sometimes be a better indicator of the topic as a whole. Usually lambda values from 0.4 to 0.7 give good indications of important terms in topics."
   ]
  },
  {
   "cell_type": "code",
   "execution_count": 1,
   "metadata": {
    "collapsed": false
   },
   "outputs": [
    {
     "name": "stderr",
     "output_type": "stream",
     "text": [
      "Using gpu device 0: Graphics Device\n"
     ]
    },
    {
     "ename": "ImportError",
     "evalue": "No module named pyLDAvis.gensim",
     "output_type": "error",
     "traceback": [
      "\u001b[1;31m---------------------------------------------------------------------------\u001b[0m",
      "\u001b[1;31mImportError\u001b[0m                               Traceback (most recent call last)",
      "\u001b[1;32m<ipython-input-1-d0e77e8db09f>\u001b[0m in \u001b[0;36m<module>\u001b[1;34m()\u001b[0m\n\u001b[0;32m      1\u001b[0m \u001b[1;32mfrom\u001b[0m \u001b[0mgensim\u001b[0m \u001b[1;32mimport\u001b[0m \u001b[0mcorpora\u001b[0m\u001b[1;33m,\u001b[0m \u001b[0mmodels\u001b[0m\u001b[1;33m\u001b[0m\u001b[0m\n\u001b[1;32m----> 2\u001b[1;33m \u001b[1;32mimport\u001b[0m \u001b[0mpyLDAvis\u001b[0m\u001b[1;33m.\u001b[0m\u001b[0mgensim\u001b[0m\u001b[1;33m\u001b[0m\u001b[0m\n\u001b[0m\u001b[0;32m      3\u001b[0m \u001b[1;32mimport\u001b[0m \u001b[0mjoblib\u001b[0m\u001b[1;33m\u001b[0m\u001b[0m\n\u001b[0;32m      4\u001b[0m \u001b[1;32mimport\u001b[0m \u001b[0mpickle\u001b[0m\u001b[1;33m\u001b[0m\u001b[0m\n\u001b[0;32m      5\u001b[0m \u001b[1;33m\u001b[0m\u001b[0m\n",
      "\u001b[1;31mImportError\u001b[0m: No module named pyLDAvis.gensim"
     ]
    }
   ],
   "source": [
    "from gensim import corpora, models\n",
    "import pyLDAvis.gensim\n",
    "import joblib\n",
    "import pickle\n",
    "\n",
    "corpus = corpora.MmCorpus('lda/lda_middle_east.mm')\n",
    "dictionary = corpora.Dictionary.load('lda/lda_middle_east.dict')\n",
    "lda = models.LdaModel.load('lda/middle_east_100.lda')\n",
    "print(\"Loaded Model\")\n",
    "followers_data =  pyLDAvis.gensim.prepare(lda, corpus, dictionary)\n",
    "pyLDAvis.displaym(followers_data)"
   ]
  },
  {
   "cell_type": "code",
   "execution_count": null,
   "metadata": {
    "collapsed": true
   },
   "outputs": [],
   "source": []
  }
 ],
 "metadata": {
  "kernelspec": {
   "display_name": "Python 2",
   "language": "python",
   "name": "python2"
  },
  "language_info": {
   "codemirror_mode": {
    "name": "ipython",
    "version": 2
   },
   "file_extension": ".py",
   "mimetype": "text/x-python",
   "name": "python",
   "nbconvert_exporter": "python",
   "pygments_lexer": "ipython2",
   "version": "2.7.5"
  }
 },
 "nbformat": 4,
 "nbformat_minor": 0
}
