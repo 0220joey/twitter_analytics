{
 "cells": [
  {
   "cell_type": "code",
   "execution_count": 1,
   "metadata": {
    "collapsed": false
   },
   "outputs": [
    {
     "name": "stdout",
     "output_type": "stream",
     "text": [
      "[  50524  569974 1149259 ...,  561202  900540  244631]\n",
      "Finsihed creating word map\n",
      "[t-SNE] Computing pairwise distances...\n",
      "[t-SNE] Computed conditional probabilities for sample 1000 / 10000\n",
      "[t-SNE] Computed conditional probabilities for sample 2000 / 10000\n",
      "[t-SNE] Computed conditional probabilities for sample 3000 / 10000\n",
      "[t-SNE] Computed conditional probabilities for sample 4000 / 10000\n",
      "[t-SNE] Computed conditional probabilities for sample 5000 / 10000\n",
      "[t-SNE] Computed conditional probabilities for sample 6000 / 10000\n",
      "[t-SNE] Computed conditional probabilities for sample 7000 / 10000\n",
      "[t-SNE] Computed conditional probabilities for sample 8000 / 10000\n",
      "[t-SNE] Computed conditional probabilities for sample 9000 / 10000\n",
      "[t-SNE] Computed conditional probabilities for sample 10000 / 10000\n",
      "[t-SNE] Mean sigma: 0.000277\n",
      "[t-SNE] Error after 100 iterations with early exaggeration: 32.630044\n",
      "[t-SNE] Error after 174 iterations: 4.471673\n",
      "Finished model Fitting with TSNE\n"
     ]
    },
    {
     "name": "stderr",
     "output_type": "stream",
     "text": [
      "Using gpu device 0: Graphics Device\n"
     ]
    }
   ],
   "source": [
    "import pickle\n",
    "import os.path\n",
    "from nltk.corpus import stopwords\n",
    "import sys\n",
    "from gensim.models.doc2vec import TaggedDocument\n",
    "from gensim import utils\n",
    "from gensim.models import Doc2Vec\n",
    "from sklearn.manifold import TSNE\n",
    "import bokeh.plotting as bp\n",
    "import numpy as np\n",
    "from gensim.models import Word2Vec\n",
    "from sklearn.decomposition import TruncatedSVD\n",
    "from bokeh.models import HoverTool, BoxSelectTool\n",
    "from bokeh.plotting import figure, show, output_notebook\n",
    "\n",
    "model = Word2Vec.load(\"en_1000_no_stem2/en.model\")\n",
    "word_vectors = model.syn0\n",
    "w2v_norm = word_vectors / np.linalg.norm(word_vectors)\n",
    "word_map = dict(zip(model.index2word, w2v_norm))\n",
    "rand_pick = np.random.choice(w2v_norm.shape[0], 10000, replace=False)\n",
    "print(rand_pick)\n",
    "rand_vecs = w2v_norm[rand_pick,:]\n",
    "print(\"Finsihed creating word map\")\n",
    "tsne_model = TSNE(n_components=2, verbose=1, random_state=0)\n",
    "tsne_d2v = tsne_model.fit_transform(rand_vecs)\n",
    "print(\"Finished model Fitting with TSNE\")"
   ]
  },
  {
   "cell_type": "code",
   "execution_count": null,
   "metadata": {
    "collapsed": false
   },
   "outputs": [
    {
     "data": {
      "text/html": [
       "\n",
       "\n",
       "    <script type=\"text/javascript\">\n",
       "      \n",
       "      (function(global) {\n",
       "        function now() {\n",
       "          return new Date();\n",
       "        }\n",
       "      \n",
       "        if (typeof (window._bokeh_onload_callbacks) === \"undefined\") {\n",
       "          window._bokeh_onload_callbacks = [];\n",
       "        }\n",
       "      \n",
       "        function run_callbacks() {\n",
       "          window._bokeh_onload_callbacks.forEach(function(callback) { callback() });\n",
       "          delete window._bokeh_onload_callbacks\n",
       "          console.info(\"Bokeh: all callbacks have finished\");\n",
       "        }\n",
       "      \n",
       "        function load_libs(js_urls, callback) {\n",
       "          window._bokeh_onload_callbacks.push(callback);\n",
       "          if (window._bokeh_is_loading > 0) {\n",
       "            console.log(\"Bokeh: BokehJS is being loaded, scheduling callback at\", now());\n",
       "            return null;\n",
       "          }\n",
       "          if (js_urls == null || js_urls.length === 0) {\n",
       "            run_callbacks();\n",
       "            return null;\n",
       "          }\n",
       "          console.log(\"Bokeh: BokehJS not loaded, scheduling load and callback at\", now());\n",
       "          window._bokeh_is_loading = js_urls.length;\n",
       "          for (var i = 0; i < js_urls.length; i++) {\n",
       "            var url = js_urls[i];\n",
       "            var s = document.createElement('script');\n",
       "            s.src = url;\n",
       "            s.async = false;\n",
       "            s.onreadystatechange = s.onload = function() {\n",
       "              window._bokeh_is_loading--;\n",
       "              if (window._bokeh_is_loading === 0) {\n",
       "                console.log(\"Bokeh: all BokehJS libraries loaded\");\n",
       "                run_callbacks()\n",
       "              }\n",
       "            };\n",
       "            s.onerror = function() {\n",
       "              console.warn(\"failed to load library \" + url);\n",
       "            };\n",
       "            console.log(\"Bokeh: injecting script tag for BokehJS library: \", url);\n",
       "            document.getElementsByTagName(\"head\")[0].appendChild(s);\n",
       "          }\n",
       "        };var js_urls = ['https://cdn.pydata.org/bokeh/release/bokeh-0.11.0.min.js', 'https://cdn.pydata.org/bokeh/release/bokeh-widgets-0.11.0.min.js', 'https://cdn.pydata.org/bokeh/release/bokeh-compiler-0.11.0.min.js'];\n",
       "      \n",
       "        var inline_js = [\n",
       "          function(Bokeh) {\n",
       "            Bokeh.set_log_level(\"info\");\n",
       "          },\n",
       "          function(Bokeh) {\n",
       "            console.log(\"Bokeh: injecting CSS: https://cdn.pydata.org/bokeh/release/bokeh-0.11.0.min.css\");\n",
       "            Bokeh.embed.inject_css(\"https://cdn.pydata.org/bokeh/release/bokeh-0.11.0.min.css\");\n",
       "            console.log(\"Bokeh: injecting CSS: https://cdn.pydata.org/bokeh/release/bokeh-widgets-0.11.0.min.css\");\n",
       "            Bokeh.embed.inject_css(\"https://cdn.pydata.org/bokeh/release/bokeh-widgets-0.11.0.min.css\");\n",
       "          }\n",
       "        ];\n",
       "      \n",
       "        function run_inline_js() {\n",
       "          for (var i = 0; i < inline_js.length; i++) {\n",
       "            inline_js[i](window.Bokeh);\n",
       "          }\n",
       "        }\n",
       "      \n",
       "        if (window._bokeh_is_loading === 0) {\n",
       "          console.log(\"Bokeh: BokehJS loaded, going straight to plotting\");\n",
       "          run_inline_js();\n",
       "        } else {\n",
       "          load_libs(js_urls, function() {\n",
       "            console.log(\"Bokeh: BokehJS plotting callback run at\", now());\n",
       "            run_inline_js();\n",
       "          });\n",
       "        }\n",
       "      }(this));\n",
       "    </script>\n",
       "    <div>\n",
       "        <a href=\"http://bokeh.pydata.org\" target=\"_blank\" class=\"bk-logo bk-logo-small bk-logo-notebook\"></a>\n",
       "        <span>BokehJS successfully loaded.</span>\n",
       "    </div>"
      ]
     },
     "metadata": {},
     "output_type": "display_data"
    },
    {
     "name": "stdout",
     "output_type": "stream",
     "text": [
      "--Return--\n",
      "> <ipython-input-15-15665bbd3240>(3)<module>()->None\n",
      "-> pdb.set_trace()\n",
      "(Pdb) p rand_pick.shape\n",
      "(10000,)\n",
      "(Pdb) p rand_pick[0]\n",
      "50524\n"
     ]
    }
   ],
   "source": [
    "output_notebook()\n",
    "import pdb\n",
    "pdb.set_trace()\n",
    "print(rand_pick)\n",
    "bag_of_words = []\n",
    "for item in rand_pick:\n",
    "    bag_of_words.append(model.index2word[item])\n",
    "    \n",
    "plot_d2v = bp.figure(plot_width=1000, plot_height=800, title=\"Middle East tweets (doc2vec)\",\n",
    "    tools=\"pan,wheel_zoom,box_zoom,reset,hover,previewsave\",\n",
    "    x_axis_type=None, y_axis_type=None, min_border=1)\n",
    "print(\"Finished Created Figure\")\n",
    "plot_d2v.scatter(x=tsne_d2v[:,0], y=tsne_d2v[:,1],\n",
    "                    source=bp.ColumnDataSource({\n",
    "                        \"tweet\": bag_of_words[:10000],\n",
    "                    }))\n",
    "print(\"Plotting\")\n",
    "hover = plot_d2v.select(dict(type=HoverTool))\n",
    "hover.tooltips={\"word\": \"@tweet \"}\n",
    "show(plot_d2v)\n",
    "print(\"Finished Plotting\")"
   ]
  },
  {
   "cell_type": "code",
   "execution_count": null,
   "metadata": {
    "collapsed": false
   },
   "outputs": [],
   "source": [
    "model = Word2Vec.load(\"wiki_model/wiki.en.word2vec.model\")\n",
    "word_vectors = model.syn0\n",
    "w2v_norm = word_vectors / np.linalg.norm(word_vectors)\n",
    "word_map = dict(zip(model.index2word, w2v_norm))\n",
    "rand_vecs = w2v_norm[np.random.choice(w2v_norm.shape[0], 10000, replace=False),:]\n",
    "'''\n",
    "words = []\n",
    "for j in xrange(0,len(rand_vecs)):\n",
    "    for i in xrange(0,len(word_map.values())):\n",
    "        if(np.all(word_map.values()[i] == rand_vecs[j])):\n",
    "            words.append(word_map.keys()[i])\n",
    "'''\n",
    "print(\"Finsihed creating word map\")\n",
    "tsne_model = TSNE(n_components=2, verbose=1, random_state=0)\n",
    "tsne_d2v = tsne_model.fit_transform(rand_vecs)\n",
    "print(\"Finished model Fitting with TSNE\")"
   ]
  },
  {
   "cell_type": "code",
   "execution_count": null,
   "metadata": {
    "collapsed": false
   },
   "outputs": [],
   "source": [
    "output_notebook()\n",
    "plot_d2v = bp.figure(plot_width=1000, plot_height=800, title=\"Middle East tweets (word2vec Yanshuai)\",\n",
    "    tools=\"pan,wheel_zoom,box_zoom,reset,hover,previewsave\",\n",
    "    x_axis_type=None, y_axis_type=None, min_border=1)\n",
    "print(\"Finished Created Figure\")\n",
    "plot_d2v.scatter(x=tsne_d2v[:,0], y=tsne_d2v[:,1],\n",
    "                    source=bp.ColumnDataSource({\n",
    "                        \"tweet\": words,\n",
    "                    }))\n",
    "print(\"Plotting\")\n",
    "hover = plot_d2v.select(dict(type=HoverTool))\n",
    "hover.tooltips={\"word\": \"@tweet \"}\n",
    "show(plot_d2v)\n",
    "print(\"Finished Plotting\")"
   ]
  },
  {
   "cell_type": "code",
   "execution_count": null,
   "metadata": {
    "collapsed": false
   },
   "outputs": [],
   "source": [
    "from sklearn.manifold import MDS\n",
    "rand_vecs = w2v_norm[np.random.choice(w2v_norm.shape[0], 10000, replace=False),:]\n",
    "MDS_model = MDS(n_components=2, n_jobs=2,random_state=0)\n",
    "MDS = MDS_model.fit_transform(rand_vecs)\n",
    "print(\"Finished model Fitting with MDS\")"
   ]
  },
  {
   "cell_type": "code",
   "execution_count": null,
   "metadata": {
    "collapsed": false
   },
   "outputs": [],
   "source": [
    "output_notebook()\n",
    "plot_d2v = bp.figure(plot_width=1000, plot_height=800, title=\"Wiki Dump (word2vec Yanshuai)\",\n",
    "    tools=\"pan,wheel_zoom,box_zoom,reset,hover,previewsave\",\n",
    "    x_axis_type=None, y_axis_type=None, min_border=1)\n",
    "print(\"Finished Created Figure\")\n",
    "plot_d2v.scatter(x=MDS[:,0], y=MDS[:,1],\n",
    "                    source=bp.ColumnDataSource({\n",
    "                        \"tweet\": words,\n",
    "                    }))\n",
    "print(\"Plotting\")\n",
    "hover = plot_d2v.select(dict(type=HoverTool))\n",
    "hover.tooltips={\"word\": \"@tweet \"}\n",
    "show(plot_d2v)\n",
    "print(\"Finished Plotting\")"
   ]
  },
  {
   "cell_type": "code",
   "execution_count": null,
   "metadata": {
    "collapsed": false
   },
   "outputs": [],
   "source": [
    "norm2 = normalize(x[:,np.newaxis], axis=0).ravel()"
   ]
  },
  {
   "cell_type": "code",
   "execution_count": null,
   "metadata": {
    "collapsed": false
   },
   "outputs": [],
   "source": []
  },
  {
   "cell_type": "code",
   "execution_count": null,
   "metadata": {
    "collapsed": true
   },
   "outputs": [],
   "source": []
  }
 ],
 "metadata": {
  "kernelspec": {
   "display_name": "Python 2",
   "language": "python",
   "name": "python2"
  },
  "language_info": {
   "codemirror_mode": {
    "name": "ipython",
    "version": 2
   },
   "file_extension": ".py",
   "mimetype": "text/x-python",
   "name": "python",
   "nbconvert_exporter": "python",
   "pygments_lexer": "ipython2",
   "version": "2.7.5"
  }
 },
 "nbformat": 4,
 "nbformat_minor": 0
}
