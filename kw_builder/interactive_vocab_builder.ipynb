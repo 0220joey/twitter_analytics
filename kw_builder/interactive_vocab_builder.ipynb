{
 "cells": [
  {
   "cell_type": "code",
   "execution_count": 12,
   "metadata": {
    "collapsed": false
   },
   "outputs": [
    {
     "name": "stdout",
     "output_type": "stream",
     "text": [
      "Populating the interactive namespace from numpy and matplotlib\n"
     ]
    }
   ],
   "source": [
    "%pylab inline"
   ]
  },
  {
   "cell_type": "code",
   "execution_count": 13,
   "metadata": {
    "collapsed": false
   },
   "outputs": [],
   "source": [
    "import gensim"
   ]
  },
  {
   "cell_type": "code",
   "execution_count": 441,
   "metadata": {
    "collapsed": false
   },
   "outputs": [
    {
     "name": "stdout",
     "output_type": "stream",
     "text": [
      "/home/ycao/twitter_analytics\n"
     ]
    }
   ],
   "source": [
    "cd ~/twitter_analytics/"
   ]
  },
  {
   "cell_type": "code",
   "execution_count": 14,
   "metadata": {
    "collapsed": false
   },
   "outputs": [],
   "source": [
    "w2v=gensim.models.Word2Vec.load('../models/wiki_model/wiki.en.word2vec.model')"
   ]
  },
  {
   "cell_type": "code",
   "execution_count": 4,
   "metadata": {
    "collapsed": false
   },
   "outputs": [
    {
     "data": {
      "text/plain": [
       "[(u'barack', 0.7714914083480835),\n",
       " (u'biden', 0.6189278364181519),\n",
       " (u'obamamost', 0.5470020771026611),\n",
       " (u'clinton', 0.5110719203948975),\n",
       " (u'mccain', 0.5068162083625793),\n",
       " (u'bush', 0.5049417018890381),\n",
       " (u'barackbarack', 0.4921623766422272),\n",
       " (u'reagan', 0.48733529448509216),\n",
       " (u'jzanalytics', 0.48517102003097534),\n",
       " (u'hollande', 0.4836955964565277)]"
      ]
     },
     "execution_count": 4,
     "metadata": {},
     "output_type": "execute_result"
    }
   ],
   "source": [
    "w2v.most_similar(['obama'])"
   ]
  },
  {
   "cell_type": "code",
   "execution_count": 19,
   "metadata": {
    "collapsed": false
   },
   "outputs": [
    {
     "data": {
      "text/plain": [
       "[(u'n\\xfcr', 0.7315970659255981),\n",
       " (u'brn', 0.6835487484931946),\n",
       " (u'zol', 0.6782622337341309),\n",
       " (u'mnz', 0.6602417230606079),\n",
       " (u'rbr', 0.6475198268890381),\n",
       " (u'zan', 0.6402051448822021),\n",
       " (u'dij', 0.6395502090454102),\n",
       " (u'jer', 0.6316919922828674),\n",
       " (u'hoc', 0.6307550668716431),\n",
       " (u'osc', 0.6206264495849609)]"
      ]
     },
     "execution_count": 19,
     "metadata": {},
     "output_type": "execute_result"
    }
   ],
   "source": [
    "w2v.most_similar('mug')"
   ]
  },
  {
   "cell_type": "code",
   "execution_count": 22,
   "metadata": {
    "collapsed": false
   },
   "outputs": [
    {
     "data": {
      "text/plain": [
       "[(u'phones', 0.7695544362068176),\n",
       " (u'voicemail', 0.6773207187652588),\n",
       " (u'handset', 0.6292532086372375),\n",
       " (u'smartphone', 0.6179442405700684),\n",
       " (u'handsets', 0.6175676584243774),\n",
       " (u'skype', 0.6126262545585632),\n",
       " (u'friendcaller', 0.6083592176437378),\n",
       " (u'mobile', 0.6049913167953491),\n",
       " (u'telephone', 0.5931021571159363),\n",
       " (u'wallet', 0.5846163034439087)]"
      ]
     },
     "execution_count": 22,
     "metadata": {},
     "output_type": "execute_result"
    }
   ],
   "source": [
    "w2v.most_similar('phone')"
   ]
  },
  {
   "cell_type": "code",
   "execution_count": 20,
   "metadata": {
    "collapsed": false
   },
   "outputs": [],
   "source": [
    "class NNExplorer(object):\n",
    "    def __init__(self, L, eta=.9, r = 1000):\n",
    "        self.S = set(L) #{k:None for k in L}\n",
    "        self.L = list(self.S)\n",
    "        self.candid_set = {k:None for k in L}#set(self.S)\n",
    "\tself.eta = eta\n",
    "\tself.r = r\n",
    "        self.update_centrality()\n",
    "\n",
    "    def estimate_centrality(self, wd):\n",
    "        N = len(self.L)\n",
    "        if N > self.r:\n",
    "            rand_anchors = [self.L[idx] for idx in np.random.choice(N, self.r)]\n",
    "        else:\n",
    "            rand_anchors = self.L\n",
    "            \n",
    "    \treturn np.std([w2v.similarity(wd, ra) for ra in rand_anchors])\n",
    "\t\n",
    "    def update_centrality(self):    \t\n",
    "        for k in self.candid_set:\n",
    "            prev_v = self.candid_set[k]\n",
    "            new_v = self.estimate_centrality(k)\n",
    "            if prev_v is None:\n",
    "                self.candid_set[k] = new_v\n",
    "            else:\n",
    "                self.candid_set[k] = self.eta*prev_v + (1-self.eta)*new_v                \n",
    "\n",
    "    def nn_query(self, word, topn=10):\n",
    "        wl = w2v.most_similar(word, topn=topn)\n",
    "        for idx, w in enumerate(wl):\n",
    "            print idx, w[0], w[1]\n",
    "\n",
    "        return [w[0] for w in wl]\n",
    "\n",
    "    def response_add_S(self, wl, yeslist=None, nolist=None):\n",
    "        if yeslist:\n",
    "            wl = [wl[idx] for idx in yeslist]\n",
    "\n",
    "        if nolist:\n",
    "            wl = [w for idx,w in enumerate(wl) if idx not in nolist]\n",
    "\n",
    "        wl = list(set([w for w in wl if w not in self.S]))\n",
    "        print wl\n",
    "        self.L.extend(wl)            \n",
    "        self.S.update(wl)        \n",
    "        self.candid_set.update({w:None for w in wl})\n",
    "        self.update_centrality()\n",
    "        \n",
    "    def nn_prop_explore(self):\n",
    "        keys = self.candid_set.keys()\n",
    "        w = keys[np.argmin([self.candid_set[k] for k in keys])]\n",
    "        #w = np.random.choice(list(self.candid_set), 1)[0]\n",
    "        centrality=self.candid_set.pop(w)\n",
    "        print w, centrality\n",
    "        return w\n",
    "    \n",
    "    def add_candidate(self, cw):\n",
    "        if cw not in self.S:\n",
    "            raise ValueError(\"word %s not currently in accepted set.\" % cw)\n",
    "        elif cw in self.candid_set:\n",
    "            raise ValueError(\"word %s already in candidate set.\" % cw)\n",
    "        else:\n",
    "            self.candid_set[cw] = self.estimate_centrality(cw)            \n",
    "\n",
    "    def drop(self, ws):\n",
    "        ws = [w for w in ws if w in self.S]\n",
    "        for w in ws:\n",
    "            self.S.remove(w)\n",
    "            self.L.remove(w)\n",
    "            if w in self.candid_set:\n",
    "                self.candid_set.pop(w)\n",
    "            "
   ]
  },
  {
   "cell_type": "code",
   "execution_count": 21,
   "metadata": {
    "collapsed": false
   },
   "outputs": [],
   "source": [
    "#ini_set = ['disease', 'flu', 'sick', 'fever']\n",
    "ini_set = ['samsung','smartphone','technology', 'electronics', 'android', 'processor', 'sensor', 'display', 'battery']\n",
    "#ini_set = filter(None, map(str.strip, open('hc_word_picked.txt').readlines()))\n",
    "explorer=NNExplorer(ini_set)"
   ]
  },
  {
   "cell_type": "code",
   "execution_count": 22,
   "metadata": {
    "collapsed": false
   },
   "outputs": [
    {
     "data": {
      "text/plain": [
       "['smartphone',\n",
       " 'samsung',\n",
       " 'battery',\n",
       " 'sensor',\n",
       " 'display',\n",
       " 'electronics',\n",
       " 'technology',\n",
       " 'processor',\n",
       " 'android']"
      ]
     },
     "execution_count": 22,
     "metadata": {},
     "output_type": "execute_result"
    }
   ],
   "source": [
    "explorer.L"
   ]
  },
  {
   "cell_type": "code",
   "execution_count": 23,
   "metadata": {
    "collapsed": false
   },
   "outputs": [
    {
     "name": "stdout",
     "output_type": "stream",
     "text": [
      "sensor 0.214116073287\n",
      "sensor\n",
      "0 sensors 0.805194556713\n",
      "1 cmos 0.706283688545\n",
      "2 accelerometer 0.7048843503\n",
      "3 autofocus 0.688985466957\n",
      "4 optical 0.680924475193\n",
      "5 readout 0.660250842571\n",
      "6 megapixel 0.659176588058\n",
      "7 liveview 0.658817410469\n",
      "8 depthsense 0.654824852943\n",
      "9 expeed 0.650109171867\n"
     ]
    }
   ],
   "source": [
    "w=explorer.nn_prop_explore()\n",
    "print w\n",
    "wl=explorer.nn_query(w)"
   ]
  },
  {
   "cell_type": "code",
   "execution_count": 24,
   "metadata": {
    "collapsed": false
   },
   "outputs": [
    {
     "name": "stdout",
     "output_type": "stream",
     "text": [
      "[u'expeed', u'accelerometer', u'depthsense', u'readout', u'liveview', u'optical', u'sensors', u'megapixel', u'autofocus', u'cmos']\n"
     ]
    }
   ],
   "source": [
    "yeslist = []\n",
    "nolist = []\n",
    "explorer.response_add_S(wl, yeslist=yeslist, nolist=nolist)"
   ]
  },
  {
   "cell_type": "code",
   "execution_count": 49,
   "metadata": {
    "collapsed": false
   },
   "outputs": [
    {
     "name": "stdout",
     "output_type": "stream",
     "text": [
      "['usb']\n"
     ]
    },
    {
     "ename": "KeyError",
     "evalue": "'s7'",
     "output_type": "error",
     "traceback": [
      "\u001b[1;31m---------------------------------------------------------------------------\u001b[0m",
      "\u001b[1;31mKeyError\u001b[0m                                  Traceback (most recent call last)",
      "\u001b[1;32m<ipython-input-49-1f13e256faa1>\u001b[0m in \u001b[0;36m<module>\u001b[1;34m()\u001b[0m\n\u001b[0;32m      1\u001b[0m \u001b[1;31m#explorer.response_add_S(['ebola','swine','avian'], yeslist=[], nolist=[])\u001b[0m\u001b[1;33m\u001b[0m\u001b[1;33m\u001b[0m\u001b[0m\n\u001b[1;32m----> 2\u001b[1;33m \u001b[0mexplorer\u001b[0m\u001b[1;33m.\u001b[0m\u001b[0mresponse_add_S\u001b[0m\u001b[1;33m(\u001b[0m\u001b[1;33m[\u001b[0m\u001b[1;34m'usb'\u001b[0m\u001b[1;33m,\u001b[0m \u001b[1;34m'features'\u001b[0m\u001b[1;33m,\u001b[0m \u001b[1;34m'onyx'\u001b[0m\u001b[1;33m,\u001b[0m \u001b[1;34m'gold'\u001b[0m\u001b[1;33m]\u001b[0m\u001b[1;33m,\u001b[0m \u001b[0myeslist\u001b[0m\u001b[1;33m=\u001b[0m\u001b[1;33m[\u001b[0m\u001b[1;33m]\u001b[0m\u001b[1;33m,\u001b[0m \u001b[0mnolist\u001b[0m\u001b[1;33m=\u001b[0m\u001b[1;33m[\u001b[0m\u001b[1;33m]\u001b[0m\u001b[1;33m)\u001b[0m\u001b[1;33m\u001b[0m\u001b[0m\n\u001b[0m",
      "\u001b[1;32m<ipython-input-20-bb255a90cc92>\u001b[0m in \u001b[0;36mresponse_add_S\u001b[1;34m(self, wl, yeslist, nolist)\u001b[0m\n\u001b[0;32m     45\u001b[0m         \u001b[0mself\u001b[0m\u001b[1;33m.\u001b[0m\u001b[0mS\u001b[0m\u001b[1;33m.\u001b[0m\u001b[0mupdate\u001b[0m\u001b[1;33m(\u001b[0m\u001b[0mwl\u001b[0m\u001b[1;33m)\u001b[0m\u001b[1;33m\u001b[0m\u001b[0m\n\u001b[0;32m     46\u001b[0m         \u001b[0mself\u001b[0m\u001b[1;33m.\u001b[0m\u001b[0mcandid_set\u001b[0m\u001b[1;33m.\u001b[0m\u001b[0mupdate\u001b[0m\u001b[1;33m(\u001b[0m\u001b[1;33m{\u001b[0m\u001b[0mw\u001b[0m\u001b[1;33m:\u001b[0m\u001b[0mNone\u001b[0m \u001b[1;32mfor\u001b[0m \u001b[0mw\u001b[0m \u001b[1;32min\u001b[0m \u001b[0mwl\u001b[0m\u001b[1;33m}\u001b[0m\u001b[1;33m)\u001b[0m\u001b[1;33m\u001b[0m\u001b[0m\n\u001b[1;32m---> 47\u001b[1;33m         \u001b[0mself\u001b[0m\u001b[1;33m.\u001b[0m\u001b[0mupdate_centrality\u001b[0m\u001b[1;33m(\u001b[0m\u001b[1;33m)\u001b[0m\u001b[1;33m\u001b[0m\u001b[0m\n\u001b[0m\u001b[0;32m     48\u001b[0m \u001b[1;33m\u001b[0m\u001b[0m\n\u001b[0;32m     49\u001b[0m     \u001b[1;32mdef\u001b[0m \u001b[0mnn_prop_explore\u001b[0m\u001b[1;33m(\u001b[0m\u001b[0mself\u001b[0m\u001b[1;33m)\u001b[0m\u001b[1;33m:\u001b[0m\u001b[1;33m\u001b[0m\u001b[0m\n",
      "\u001b[1;32m<ipython-input-20-bb255a90cc92>\u001b[0m in \u001b[0;36mupdate_centrality\u001b[1;34m(self)\u001b[0m\n\u001b[0;32m     20\u001b[0m         \u001b[1;32mfor\u001b[0m \u001b[0mk\u001b[0m \u001b[1;32min\u001b[0m \u001b[0mself\u001b[0m\u001b[1;33m.\u001b[0m\u001b[0mcandid_set\u001b[0m\u001b[1;33m:\u001b[0m\u001b[1;33m\u001b[0m\u001b[0m\n\u001b[0;32m     21\u001b[0m             \u001b[0mprev_v\u001b[0m \u001b[1;33m=\u001b[0m \u001b[0mself\u001b[0m\u001b[1;33m.\u001b[0m\u001b[0mcandid_set\u001b[0m\u001b[1;33m[\u001b[0m\u001b[0mk\u001b[0m\u001b[1;33m]\u001b[0m\u001b[1;33m\u001b[0m\u001b[0m\n\u001b[1;32m---> 22\u001b[1;33m             \u001b[0mnew_v\u001b[0m \u001b[1;33m=\u001b[0m \u001b[0mself\u001b[0m\u001b[1;33m.\u001b[0m\u001b[0mestimate_centrality\u001b[0m\u001b[1;33m(\u001b[0m\u001b[0mk\u001b[0m\u001b[1;33m)\u001b[0m\u001b[1;33m\u001b[0m\u001b[0m\n\u001b[0m\u001b[0;32m     23\u001b[0m             \u001b[1;32mif\u001b[0m \u001b[0mprev_v\u001b[0m \u001b[1;32mis\u001b[0m \u001b[0mNone\u001b[0m\u001b[1;33m:\u001b[0m\u001b[1;33m\u001b[0m\u001b[0m\n\u001b[0;32m     24\u001b[0m                 \u001b[0mself\u001b[0m\u001b[1;33m.\u001b[0m\u001b[0mcandid_set\u001b[0m\u001b[1;33m[\u001b[0m\u001b[0mk\u001b[0m\u001b[1;33m]\u001b[0m \u001b[1;33m=\u001b[0m \u001b[0mnew_v\u001b[0m\u001b[1;33m\u001b[0m\u001b[0m\n",
      "\u001b[1;32m<ipython-input-20-bb255a90cc92>\u001b[0m in \u001b[0;36mestimate_centrality\u001b[1;34m(self, wd)\u001b[0m\n\u001b[0;32m     15\u001b[0m             \u001b[0mrand_anchors\u001b[0m \u001b[1;33m=\u001b[0m \u001b[0mself\u001b[0m\u001b[1;33m.\u001b[0m\u001b[0mL\u001b[0m\u001b[1;33m\u001b[0m\u001b[0m\n\u001b[0;32m     16\u001b[0m \u001b[1;33m\u001b[0m\u001b[0m\n\u001b[1;32m---> 17\u001b[1;33m         \u001b[1;32mreturn\u001b[0m \u001b[0mnp\u001b[0m\u001b[1;33m.\u001b[0m\u001b[0mstd\u001b[0m\u001b[1;33m(\u001b[0m\u001b[1;33m[\u001b[0m\u001b[0mw2v\u001b[0m\u001b[1;33m.\u001b[0m\u001b[0msimilarity\u001b[0m\u001b[1;33m(\u001b[0m\u001b[0mwd\u001b[0m\u001b[1;33m,\u001b[0m \u001b[0mra\u001b[0m\u001b[1;33m)\u001b[0m \u001b[1;32mfor\u001b[0m \u001b[0mra\u001b[0m \u001b[1;32min\u001b[0m \u001b[0mrand_anchors\u001b[0m\u001b[1;33m]\u001b[0m\u001b[1;33m)\u001b[0m\u001b[1;33m\u001b[0m\u001b[0m\n\u001b[0m\u001b[0;32m     18\u001b[0m \u001b[1;33m\u001b[0m\u001b[0m\n\u001b[0;32m     19\u001b[0m     \u001b[1;32mdef\u001b[0m \u001b[0mupdate_centrality\u001b[0m\u001b[1;33m(\u001b[0m\u001b[0mself\u001b[0m\u001b[1;33m)\u001b[0m\u001b[1;33m:\u001b[0m\u001b[1;33m\u001b[0m\u001b[0m\n",
      "\u001b[1;32m/home/joey/py_envs/env275/lib/python2.7/site-packages/gensim/models/word2vec.pyc\u001b[0m in \u001b[0;36msimilarity\u001b[1;34m(self, w1, w2)\u001b[0m\n\u001b[0;32m   1309\u001b[0m \u001b[1;33m\u001b[0m\u001b[0m\n\u001b[0;32m   1310\u001b[0m         \"\"\"\n\u001b[1;32m-> 1311\u001b[1;33m         \u001b[1;32mreturn\u001b[0m \u001b[0mdot\u001b[0m\u001b[1;33m(\u001b[0m\u001b[0mmatutils\u001b[0m\u001b[1;33m.\u001b[0m\u001b[0munitvec\u001b[0m\u001b[1;33m(\u001b[0m\u001b[0mself\u001b[0m\u001b[1;33m[\u001b[0m\u001b[0mw1\u001b[0m\u001b[1;33m]\u001b[0m\u001b[1;33m)\u001b[0m\u001b[1;33m,\u001b[0m \u001b[0mmatutils\u001b[0m\u001b[1;33m.\u001b[0m\u001b[0munitvec\u001b[0m\u001b[1;33m(\u001b[0m\u001b[0mself\u001b[0m\u001b[1;33m[\u001b[0m\u001b[0mw2\u001b[0m\u001b[1;33m]\u001b[0m\u001b[1;33m)\u001b[0m\u001b[1;33m)\u001b[0m\u001b[1;33m\u001b[0m\u001b[0m\n\u001b[0m\u001b[0;32m   1312\u001b[0m \u001b[1;33m\u001b[0m\u001b[0m\n\u001b[0;32m   1313\u001b[0m     \u001b[1;32mdef\u001b[0m \u001b[0mn_similarity\u001b[0m\u001b[1;33m(\u001b[0m\u001b[0mself\u001b[0m\u001b[1;33m,\u001b[0m \u001b[0mws1\u001b[0m\u001b[1;33m,\u001b[0m \u001b[0mws2\u001b[0m\u001b[1;33m)\u001b[0m\u001b[1;33m:\u001b[0m\u001b[1;33m\u001b[0m\u001b[0m\n",
      "\u001b[1;32m/home/joey/py_envs/env275/lib/python2.7/site-packages/gensim/models/word2vec.pyc\u001b[0m in \u001b[0;36m__getitem__\u001b[1;34m(self, words)\u001b[0m\n\u001b[0;32m   1289\u001b[0m         \u001b[1;32mif\u001b[0m \u001b[0misinstance\u001b[0m\u001b[1;33m(\u001b[0m\u001b[0mwords\u001b[0m\u001b[1;33m,\u001b[0m \u001b[0mstring_types\u001b[0m\u001b[1;33m)\u001b[0m\u001b[1;33m:\u001b[0m\u001b[1;33m\u001b[0m\u001b[0m\n\u001b[0;32m   1290\u001b[0m             \u001b[1;31m# allow calls like trained_model['office'], as a shorthand for trained_model[['office']]\u001b[0m\u001b[1;33m\u001b[0m\u001b[1;33m\u001b[0m\u001b[0m\n\u001b[1;32m-> 1291\u001b[1;33m             \u001b[1;32mreturn\u001b[0m \u001b[0mself\u001b[0m\u001b[1;33m.\u001b[0m\u001b[0msyn0\u001b[0m\u001b[1;33m[\u001b[0m\u001b[0mself\u001b[0m\u001b[1;33m.\u001b[0m\u001b[0mvocab\u001b[0m\u001b[1;33m[\u001b[0m\u001b[0mwords\u001b[0m\u001b[1;33m]\u001b[0m\u001b[1;33m.\u001b[0m\u001b[0mindex\u001b[0m\u001b[1;33m]\u001b[0m\u001b[1;33m\u001b[0m\u001b[0m\n\u001b[0m\u001b[0;32m   1292\u001b[0m \u001b[1;33m\u001b[0m\u001b[0m\n\u001b[0;32m   1293\u001b[0m         \u001b[1;32mreturn\u001b[0m \u001b[0mvstack\u001b[0m\u001b[1;33m(\u001b[0m\u001b[1;33m[\u001b[0m\u001b[0mself\u001b[0m\u001b[1;33m.\u001b[0m\u001b[0msyn0\u001b[0m\u001b[1;33m[\u001b[0m\u001b[0mself\u001b[0m\u001b[1;33m.\u001b[0m\u001b[0mvocab\u001b[0m\u001b[1;33m[\u001b[0m\u001b[0mword\u001b[0m\u001b[1;33m]\u001b[0m\u001b[1;33m.\u001b[0m\u001b[0mindex\u001b[0m\u001b[1;33m]\u001b[0m \u001b[1;32mfor\u001b[0m \u001b[0mword\u001b[0m \u001b[1;32min\u001b[0m \u001b[0mwords\u001b[0m\u001b[1;33m]\u001b[0m\u001b[1;33m)\u001b[0m\u001b[1;33m\u001b[0m\u001b[0m\n",
      "\u001b[1;31mKeyError\u001b[0m: 's7'"
     ]
    }
   ],
   "source": [
    "#explorer.response_add_S(['ebola','swine','avian'], yeslist=[], nolist=[])\n",
    "explorer.response_add_S(['usb', 'features', 'onyx', 'gold'], yeslist=[], nolist=[])"
   ]
  },
  {
   "cell_type": "code",
   "execution_count": 367,
   "metadata": {
    "collapsed": false
   },
   "outputs": [],
   "source": [
    "#explorer.drop(['discussed', 'explored', 'questioned', 'analyzed'])\n",
    "explorer.drop(['t'])"
   ]
  },
  {
   "cell_type": "code",
   "execution_count": 50,
   "metadata": {
    "collapsed": false
   },
   "outputs": [
    {
     "data": {
      "text/plain": [
       "{'LG': None,\n",
       " u'accelerometer': 0.20982611165205445,\n",
       " 'android': 0.24991434835030948,\n",
       " 'apple': 0.22017218677068257,\n",
       " u'autofocus': 0.23321038408519482,\n",
       " 'battery': 0.21439119740867535,\n",
       " 'blackberry': 0.24824712213999864,\n",
       " 'card': None,\n",
       " u'cmos': 0.21931709209669434,\n",
       " u'depthsense': 0.20234859960437301,\n",
       " 'design': None,\n",
       " 'display': 0.20627900574554167,\n",
       " 'edge': None,\n",
       " 'electronics': 0.22555752400463217,\n",
       " u'expeed': 0.22451158917261158,\n",
       " 'expensive': None,\n",
       " 'features': None,\n",
       " 'gadget': 0.1927482213219332,\n",
       " 'galaxy': 0.19770842116131376,\n",
       " 'gold': None,\n",
       " 'hate': None,\n",
       " 'htc': 0.21116841551897428,\n",
       " 'iphone': 0.23269180124070191,\n",
       " 'korean': 0.20164651258556385,\n",
       " u'liveview': 0.20116170791648202,\n",
       " 'love': None,\n",
       " 'market': None,\n",
       " u'megapixel': 0.22093286249172092,\n",
       " 'new': None,\n",
       " 'news': None,\n",
       " 'nokia': 0.20031282597979,\n",
       " 'old': None,\n",
       " 'one': 0.18511744943632469,\n",
       " 'onyx': None,\n",
       " u'optical': 0.22648301206002031,\n",
       " 'phone': None,\n",
       " 'price': None,\n",
       " 'processor': 0.20841747424337842,\n",
       " u'readout': 0.23081325317410953,\n",
       " 'release': 0.20039991079587718,\n",
       " 's7': None,\n",
       " 'samsung': 0.21349145172826603,\n",
       " u'sensors': 0.22358180695871011,\n",
       " 'smartphone': 0.23093150568785034,\n",
       " 'south': 0.1896495435774942,\n",
       " 'specs': None,\n",
       " 'technology': 0.22811628450594648,\n",
       " 'usb': None,\n",
       " 'user': None,\n",
       " 'waterproofing': None}"
      ]
     },
     "execution_count": 50,
     "metadata": {},
     "output_type": "execute_result"
    }
   ],
   "source": [
    "explorer.candid_set"
   ]
  },
  {
   "cell_type": "code",
   "execution_count": 386,
   "metadata": {
    "collapsed": false
   },
   "outputs": [],
   "source": [
    "#explorer.drop([u'uncovered', u'recuperated', u'discovered', u'extracted', u'excavated', u'unearthed', u'removed', u'salvaged'])"
   ]
  },
  {
   "cell_type": "code",
   "execution_count": 51,
   "metadata": {
    "collapsed": false
   },
   "outputs": [
    {
     "data": {
      "text/plain": [
       "51"
      ]
     },
     "execution_count": 51,
     "metadata": {},
     "output_type": "execute_result"
    }
   ],
   "source": [
    "len(explorer.L)"
   ]
  },
  {
   "cell_type": "code",
   "execution_count": 40,
   "metadata": {
    "collapsed": false
   },
   "outputs": [
    {
     "data": {
      "text/plain": [
       "['smartphone',\n",
       " 'samsung',\n",
       " 'battery',\n",
       " 'sensor',\n",
       " 'display',\n",
       " 'electronics',\n",
       " 'technology',\n",
       " 'processor',\n",
       " 'android',\n",
       " u'expeed',\n",
       " u'accelerometer',\n",
       " u'depthsense',\n",
       " u'readout',\n",
       " u'liveview',\n",
       " u'optical',\n",
       " u'sensors',\n",
       " u'megapixel',\n",
       " u'autofocus',\n",
       " u'cmos',\n",
       " 'release',\n",
       " 'gadget',\n",
       " 'galaxy',\n",
       " 'korean',\n",
       " 'blackberry',\n",
       " 'nokia',\n",
       " 'apple',\n",
       " 'iphone',\n",
       " 'htc',\n",
       " 'one',\n",
       " 'south',\n",
       " 'news',\n",
       " 'price',\n",
       " 's7',\n",
       " 'user',\n",
       " 'phone']"
      ]
     },
     "execution_count": 40,
     "metadata": {},
     "output_type": "execute_result"
    }
   ],
   "source": [
    "explorer.L"
   ]
  },
  {
   "cell_type": "code",
   "execution_count": 52,
   "metadata": {
    "collapsed": false
   },
   "outputs": [],
   "source": [
    "with open('samsung_%d.txt' % len(explorer.L), 'w') as f:\n",
    "    f.writelines(map(lambda x: x.encode('utf-8'), map(lambda x: x+'\\n', explorer.L))                )"
   ]
  },
  {
   "cell_type": "code",
   "execution_count": null,
   "metadata": {
    "collapsed": false
   },
   "outputs": [],
   "source": []
  }
 ],
 "metadata": {
  "kernelspec": {
   "display_name": "Python 2",
   "language": "python",
   "name": "python2"
  },
  "language_info": {
   "codemirror_mode": {
    "name": "ipython",
    "version": 2
   },
   "file_extension": ".py",
   "mimetype": "text/x-python",
   "name": "python",
   "nbconvert_exporter": "python",
   "pygments_lexer": "ipython2",
   "version": "2.7.5"
  }
 },
 "nbformat": 4,
 "nbformat_minor": 0
}
