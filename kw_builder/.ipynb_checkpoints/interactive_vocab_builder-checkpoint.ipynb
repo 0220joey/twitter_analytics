{
 "cells": [
  {
   "cell_type": "code",
   "execution_count": 1,
   "metadata": {
    "collapsed": false
   },
   "outputs": [
    {
     "name": "stdout",
     "output_type": "stream",
     "text": [
      "Populating the interactive namespace from numpy and matplotlib\n"
     ]
    }
   ],
   "source": [
    "%pylab inline"
   ]
  },
  {
   "cell_type": "code",
   "execution_count": 2,
   "metadata": {
    "collapsed": false
   },
   "outputs": [
    {
     "name": "stderr",
     "output_type": "stream",
     "text": [
      "Using gpu device 0: Graphics Device\n"
     ]
    }
   ],
   "source": [
    "import gensim"
   ]
  },
  {
   "cell_type": "code",
   "execution_count": 441,
   "metadata": {
    "collapsed": false
   },
   "outputs": [
    {
     "name": "stdout",
     "output_type": "stream",
     "text": [
      "/home/ycao/twitter_analytics\n"
     ]
    }
   ],
   "source": [
    "cd ~/twitter_analytics/"
   ]
  },
  {
   "cell_type": "code",
   "execution_count": 3,
   "metadata": {
    "collapsed": false
   },
   "outputs": [],
   "source": [
    "w2v=gensim.models.Word2Vec.load('../models/wiki_model/wiki.en.word2vec.model')"
   ]
  },
  {
   "cell_type": "code",
   "execution_count": 20,
   "metadata": {
    "collapsed": false
   },
   "outputs": [
    {
     "data": {
      "text/plain": [
       "[(u'barack', 0.7714914083480835),\n",
       " (u'biden', 0.6189278364181519),\n",
       " (u'obamamost', 0.5470020771026611),\n",
       " (u'clinton', 0.5110719203948975),\n",
       " (u'mccain', 0.5068162083625793),\n",
       " (u'bush', 0.5049417018890381),\n",
       " (u'barackbarack', 0.4921623766422272),\n",
       " (u'reagan', 0.48733529448509216),\n",
       " (u'jzanalytics', 0.48517102003097534),\n",
       " (u'hollande', 0.4836955964565277)]"
      ]
     },
     "execution_count": 20,
     "metadata": {},
     "output_type": "execute_result"
    }
   ],
   "source": [
    "w2v.most_similar(['obama'])"
   ]
  },
  {
   "cell_type": "code",
   "execution_count": 19,
   "metadata": {
    "collapsed": false
   },
   "outputs": [
    {
     "data": {
      "text/plain": [
       "[(u'n\\xfcr', 0.7315970659255981),\n",
       " (u'brn', 0.6835487484931946),\n",
       " (u'zol', 0.6782622337341309),\n",
       " (u'mnz', 0.6602417230606079),\n",
       " (u'rbr', 0.6475198268890381),\n",
       " (u'zan', 0.6402051448822021),\n",
       " (u'dij', 0.6395502090454102),\n",
       " (u'jer', 0.6316919922828674),\n",
       " (u'hoc', 0.6307550668716431),\n",
       " (u'osc', 0.6206264495849609)]"
      ]
     },
     "execution_count": 19,
     "metadata": {},
     "output_type": "execute_result"
    }
   ],
   "source": [
    "w2v.most_similar('mug')"
   ]
  },
  {
   "cell_type": "code",
   "execution_count": 22,
   "metadata": {
    "collapsed": false
   },
   "outputs": [
    {
     "data": {
      "text/plain": [
       "[(u'phones', 0.7695544362068176),\n",
       " (u'voicemail', 0.6773207187652588),\n",
       " (u'handset', 0.6292532086372375),\n",
       " (u'smartphone', 0.6179442405700684),\n",
       " (u'handsets', 0.6175676584243774),\n",
       " (u'skype', 0.6126262545585632),\n",
       " (u'friendcaller', 0.6083592176437378),\n",
       " (u'mobile', 0.6049913167953491),\n",
       " (u'telephone', 0.5931021571159363),\n",
       " (u'wallet', 0.5846163034439087)]"
      ]
     },
     "execution_count": 22,
     "metadata": {},
     "output_type": "execute_result"
    }
   ],
   "source": [
    "w2v.most_similar('phone')"
   ]
  },
  {
   "cell_type": "code",
   "execution_count": 24,
   "metadata": {
    "collapsed": false
   },
   "outputs": [],
   "source": [
    "class NNExplorer(object):\n",
    "    def __init__(self, L, eta=.9, r = 100):\n",
    "        self.S = set(L) #{k:None for k in L}\n",
    "        self.L = list(self.S)\n",
    "        self.candid_set = {k:None for k in L}#set(self.S)\n",
    "\tself.eta = eta\n",
    "\tself.r = r\n",
    "        self.update_centrality()\n",
    "\n",
    "    def estimate_centrality(self, wd):\n",
    "        N = len(self.L)\n",
    "        if N > self.r:\n",
    "            rand_anchors = [self.L[idx] for idx in np.random.choice(N, self.r)]\n",
    "        else:\n",
    "            rand_anchors = self.L\n",
    "            \n",
    "    \treturn np.std([w2v.similarity(wd, ra) for ra in rand_anchors])\n",
    "\t\n",
    "    def update_centrality(self):    \t\n",
    "        for k in self.candid_set:\n",
    "            prev_v = self.candid_set[k]\n",
    "            new_v = self.estimate_centrality(k)\n",
    "            if prev_v is None:\n",
    "                self.candid_set[k] = new_v\n",
    "            else:\n",
    "                self.candid_set[k] = self.eta*prev_v + (1-self.eta)*new_v                \n",
    "\n",
    "    def nn_query(self, word, topn=10):\n",
    "        wl = w2v.most_similar(word, topn=topn)\n",
    "        for idx, w in enumerate(wl):\n",
    "            print idx, w[0], w[1]\n",
    "\n",
    "        return [w[0] for w in wl]\n",
    "\n",
    "    def response_add_S(self, wl, yeslist=None, nolist=None):\n",
    "        if yeslist:\n",
    "            wl = [wl[idx] for idx in yeslist]\n",
    "\n",
    "        if nolist:\n",
    "            wl = [w for idx,w in enumerate(wl) if idx not in nolist]\n",
    "\n",
    "        wl = list(set([w for w in wl if w not in self.S]))\n",
    "        print wl\n",
    "        self.L.extend(wl)            \n",
    "        self.S.update(wl)        \n",
    "        self.candid_set.update({w:None for w in wl})\n",
    "        self.update_centrality()\n",
    "        \n",
    "    def nn_prop_explore(self):\n",
    "        keys = self.candid_set.keys()\n",
    "        w = keys[np.argmin([self.candid_set[k] for k in keys])]\n",
    "        #w = np.random.choice(list(self.candid_set), 1)[0]\n",
    "        centrality=self.candid_set.pop(w)\n",
    "        print w, centrality\n",
    "        return w\n",
    "    \n",
    "    def add_candidate(self, cw):\n",
    "        if cw not in self.S:\n",
    "            raise ValueError(\"word %s not currently in accepted set.\" % cw)\n",
    "        elif cw in self.candid_set:\n",
    "            raise ValueError(\"word %s already in candidate set.\" % cw)\n",
    "        else:\n",
    "            self.candid_set[cw] = self.estimate_centrality(cw)            \n",
    "\n",
    "    def drop(self, ws):\n",
    "        ws = [w for w in ws if w in self.S]\n",
    "        for w in ws:\n",
    "            self.S.remove(w)\n",
    "            self.L.remove(w)\n",
    "            if w in self.candid_set:\n",
    "                self.candid_set.pop(w)\n",
    "            "
   ]
  },
  {
   "cell_type": "code",
   "execution_count": 25,
   "metadata": {
    "collapsed": false
   },
   "outputs": [],
   "source": [
    "#ini_set = ['disease', 'flu', 'sick', 'fever']\n",
    "ini_set = ['samsung','smartphone','technology', 'electronics', 'android', 'processor', 'sensor', 'display', 'battery']\n",
    "#ini_set = filter(None, map(str.strip, open('hc_word_picked.txt').readlines()))\n",
    "explorer=NNExplorer(ini_set)"
   ]
  },
  {
   "cell_type": "code",
   "execution_count": 26,
   "metadata": {
    "collapsed": false
   },
   "outputs": [
    {
     "data": {
      "text/plain": [
       "['smartphone',\n",
       " 'samsung',\n",
       " 'battery',\n",
       " 'sensor',\n",
       " 'display',\n",
       " 'electronics',\n",
       " 'technology',\n",
       " 'processor',\n",
       " 'android']"
      ]
     },
     "execution_count": 26,
     "metadata": {},
     "output_type": "execute_result"
    }
   ],
   "source": [
    "explorer.L"
   ]
  },
  {
   "cell_type": "code",
   "execution_count": 27,
   "metadata": {
    "collapsed": false
   },
   "outputs": [
    {
     "name": "stdout",
     "output_type": "stream",
     "text": [
      "sensor 0.214116073287\n",
      "sensor\n",
      "0 sensors 0.805194556713\n",
      "1 cmos 0.706283688545\n",
      "2 accelerometer 0.7048843503\n",
      "3 autofocus 0.688985466957\n",
      "4 optical 0.680924475193\n",
      "5 readout 0.660250842571\n",
      "6 megapixel 0.659176588058\n",
      "7 liveview 0.658817410469\n",
      "8 depthsense 0.654824852943\n",
      "9 expeed 0.650109171867\n"
     ]
    }
   ],
   "source": [
    "w=explorer.nn_prop_explore()\n",
    "print w\n",
    "wl=explorer.nn_query(w)"
   ]
  },
  {
   "cell_type": "code",
   "execution_count": 28,
   "metadata": {
    "collapsed": false
   },
   "outputs": [
    {
     "name": "stdout",
     "output_type": "stream",
     "text": [
      "[u'expeed', u'accelerometer', u'depthsense', u'readout', u'liveview', u'optical', u'sensors', u'megapixel', u'autofocus', u'cmos']\n"
     ]
    }
   ],
   "source": [
    "yeslist = []\n",
    "nolist = []\n",
    "explorer.response_add_S(wl, yeslist=yeslist, nolist=nolist)"
   ]
  },
  {
   "cell_type": "code",
   "execution_count": 265,
   "metadata": {
    "collapsed": false
   },
   "outputs": [
    {
     "name": "stdout",
     "output_type": "stream",
     "text": [
      "['attendants', 'aircraft', 'captain', 'airplane']\n"
     ]
    }
   ],
   "source": [
    "#explorer.response_add_S(['ebola','swine','avian'], yeslist=[], nolist=[])\n",
    "explorer.response_add_S(['aircraft', 'airplane', 'attendants', 'captain'], yeslist=[], nolist=[])"
   ]
  },
  {
   "cell_type": "code",
   "execution_count": 367,
   "metadata": {
    "collapsed": false
   },
   "outputs": [],
   "source": [
    "#explorer.drop(['discussed', 'explored', 'questioned', 'analyzed'])\n",
    "explorer.drop(['trains'])"
   ]
  },
  {
   "cell_type": "code",
   "execution_count": 29,
   "metadata": {
    "collapsed": false
   },
   "outputs": [
    {
     "data": {
      "text/plain": [
       "{u'accelerometer': 0.18924059802992729,\n",
       " 'android': 0.26981332039660605,\n",
       " u'autofocus': 0.21180910123023583,\n",
       " 'battery': 0.24789632922841159,\n",
       " u'cmos': 0.19427658496044589,\n",
       " u'depthsense': 0.17505826610119476,\n",
       " 'display': 0.23046400868330674,\n",
       " 'electronics': 0.25565662374457632,\n",
       " u'expeed': 0.20582211668918651,\n",
       " u'liveview': 0.18183531669475356,\n",
       " u'megapixel': 0.20380020003060234,\n",
       " u'optical': 0.21145725250811456,\n",
       " 'processor': 0.2198349574495006,\n",
       " u'readout': 0.21617282275406938,\n",
       " 'samsung': 0.22999541836718837,\n",
       " u'sensors': 0.20382745416377604,\n",
       " 'smartphone': 0.25037532146201297,\n",
       " 'technology': 0.25697428319338278}"
      ]
     },
     "execution_count": 29,
     "metadata": {},
     "output_type": "execute_result"
    }
   ],
   "source": [
    "explorer.candid_set"
   ]
  },
  {
   "cell_type": "code",
   "execution_count": 386,
   "metadata": {
    "collapsed": false
   },
   "outputs": [],
   "source": [
    "#explorer.drop([u'uncovered', u'recuperated', u'discovered', u'extracted', u'excavated', u'unearthed', u'removed', u'salvaged'])"
   ]
  },
  {
   "cell_type": "code",
   "execution_count": 30,
   "metadata": {
    "collapsed": false
   },
   "outputs": [
    {
     "data": {
      "text/plain": [
       "19"
      ]
     },
     "execution_count": 30,
     "metadata": {},
     "output_type": "execute_result"
    }
   ],
   "source": [
    "len(explorer.L)"
   ]
  },
  {
   "cell_type": "code",
   "execution_count": 31,
   "metadata": {
    "collapsed": false
   },
   "outputs": [
    {
     "data": {
      "text/plain": [
       "['smartphone',\n",
       " 'samsung',\n",
       " 'battery',\n",
       " 'sensor',\n",
       " 'display',\n",
       " 'electronics',\n",
       " 'technology',\n",
       " 'processor',\n",
       " 'android',\n",
       " u'expeed',\n",
       " u'accelerometer',\n",
       " u'depthsense',\n",
       " u'readout',\n",
       " u'liveview',\n",
       " u'optical',\n",
       " u'sensors',\n",
       " u'megapixel',\n",
       " u'autofocus',\n",
       " u'cmos']"
      ]
     },
     "execution_count": 31,
     "metadata": {},
     "output_type": "execute_result"
    }
   ],
   "source": [
    "explorer.L"
   ]
  },
  {
   "cell_type": "code",
   "execution_count": 430,
   "metadata": {
    "collapsed": false
   },
   "outputs": [],
   "source": [
    "with open('airline_%d.txt' % len(explorer.L), 'w') as f:\n",
    "    f.writelines(map(lambda x: x.encode('utf-8'), map(lambda x: x+'\\n', explorer.L))                )"
   ]
  },
  {
   "cell_type": "code",
   "execution_count": null,
   "metadata": {
    "collapsed": false
   },
   "outputs": [],
   "source": []
  }
 ],
 "metadata": {
  "kernelspec": {
   "display_name": "Python 2",
   "language": "python",
   "name": "python2"
  },
  "language_info": {
   "codemirror_mode": {
    "name": "ipython",
    "version": 2
   },
   "file_extension": ".py",
   "mimetype": "text/x-python",
   "name": "python",
   "nbconvert_exporter": "python",
   "pygments_lexer": "ipython2",
   "version": "2.7.5"
  }
 },
 "nbformat": 4,
 "nbformat_minor": 0
}
